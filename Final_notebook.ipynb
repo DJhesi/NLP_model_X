{
 "cells": [
  {
   "cell_type": "markdown",
   "metadata": {},
   "source": [
    "# Twitter Sentiment Analysis"
   ]
  },
  {
   "cell_type": "markdown",
   "metadata": {},
   "source": [
    "## Overview\n",
    "This project is aimed at building and evaluating machine learning models for sentiment analysis on Twitter data. Sentiment analysis involves classifying text data into different sentiment categories such as positive, negative, or neutral. In this project, we collect and preprocess Twitter data, including cleaning the text, removing noise, and transforming it into a format suitable for machine learning algorithms.\n",
    "\n",
    "Once the data preprocessing is complete, we train several machine learning models on the preprocessed data to predict the sentiment of tweets. Some of the models considered in this project include Naive Bayes, Logistic Regression, Random Forest, AdaBoost, XGBoost, and K-Nearest Neighbors. We use techniques such as pipeline construction and hyperparameter tuning with GridSearchCV to optimize the performance of these models.\n",
    "\n",
    "After training and evaluating individual models, we explore ensemble learning techniques such as Voting Classifier, which combines predictions from multiple base models to make a final prediction. We experiment with different combinations of base models to find the ensemble that yields the best performance in terms of accuracy and other evaluation metrics.\n",
    "\n",
    "Throughout the project, we focus on best practices in machine learning, including data preprocessing, model selection, hyperparameter tuning, and evaluation. The ultimate goal is to develop an accurate and reliable sentiment analysis model that can effectively analyze Twitter data and provide valuable insights into public opinion and sentiment trends."
   ]
  },
  {
   "cell_type": "markdown",
   "metadata": {},
   "source": [
    "## Business Problem\n",
    "In today's digital age, companies and brands are increasingly leveraging social media platforms such as Twitter to connect with their audience, build brand loyalty, and monitor public sentiment. However, analyzing the vast amount of user-generated content on Twitter to gauge public opinion manually can be time-consuming and inefficient. Therefore, the business problem we aim to address with this project is the need for an automated sentiment analysis solution that accurately classifies tweets as either positive or negative. By automating the sentiment analysis process, companies can gain valuable insights into customer perceptions, identify emerging trends, and tailor their marketing strategies to better resonate with their target audience.\n",
    "\n",
    "The stakeholders who could benefit from this project include marketing professionals, brand managers, social media analysts, and business decision-makers. Marketing professionals can use the sentiment analysis tool to gauge the effectiveness of their marketing campaigns in real-time and adjust their strategies accordingly. Brand managers can monitor brand perception and identify potential issues or crises before they escalate. Social media analysts can track public sentiment trends over time and identify key influencers or opinion leaders within their industry. Business decision-makers can use the insights gained from sentiment analysis to make informed decisions about product development, customer service improvements, and crisis management strategies. Ultimately, this project aims to provide a valuable tool for stakeholders to better understand and respond to public sentiment on Twitter, thereby enhancing brand reputation and driving business success.\n"
   ]
  },
  {
   "cell_type": "markdown",
   "metadata": {},
   "source": [
    "## Data Understanding\n",
    "\n",
    "The dataset used in this project was sourced from [CrowdFlower](https://data.world/crowdflower/brands-and-product-emotions). It comprises tweets about various brands and products, with contributors tasked to evaluate whether each tweet expresses a positive, negative, or neutral emotion towards a specific brand or product. The dataset contains a total of 9093 rows of data. For each tweet, the target brand or product of the expressed emotion is identified. Exploratory analysis of the dataset reveals that it provides a rich source of information for sentiment analysis, as it captures real-time opinions and emotions expressed by users on Twitter regarding different brands and products."
   ]
  },
  {
   "cell_type": "markdown",
   "metadata": {},
   "source": [
    "### EDA"
   ]
  },
  {
   "cell_type": "markdown",
   "metadata": {},
   "source": [
    "In this Jupyter notebook, we embark on a journey to analyze sentiment in tweets related to Apple and Google products. Our goals are to understand the dataset's structure, clean and preprocess the data, and prepare it for a machine learning model that predicts sentiment based on tweet content. Let's start by loading the dataset and performing an exploratory data analysis (EDA).\n"
   ]
  },
  {
   "cell_type": "code",
   "execution_count": 1,
   "metadata": {},
   "outputs": [
    {
     "name": "stderr",
     "output_type": "stream",
     "text": [
      "[nltk_data] Downloading package punkt to\n",
      "[nltk_data]     C:\\Users\\johns\\AppData\\Roaming\\nltk_data...\n",
      "[nltk_data]   Package punkt is already up-to-date!\n",
      "[nltk_data] Downloading package stopwords to\n",
      "[nltk_data]     C:\\Users\\johns\\AppData\\Roaming\\nltk_data...\n",
      "[nltk_data]   Package stopwords is already up-to-date!\n"
     ]
    }
   ],
   "source": [
    "# Data manipulation\n",
    "import pandas as pd\n",
    "import numpy as np\n",
    "\n",
    "# Natural Language Toolkit for text processing\n",
    "import nltk\n",
    "from nltk.tokenize import word_tokenize\n",
    "from nltk.corpus import stopwords\n",
    "from nltk.stem import WordNetLemmatizer\n",
    "nltk.download('punkt')  # Download NLTK resources if not already present\n",
    "nltk.download('stopwords')\n",
    "\n",
    "# Regular Expressions for pattern matching\n",
    "import re\n",
    "\n",
    "# String module for string operations\n",
    "import string\n",
    "\n",
    "# Counter for counting occurrences of elements\n",
    "from collections import Counter\n",
    "\n",
    "# Machine learning\n",
    "from sklearn.model_selection import train_test_split, cross_validate, GridSearchCV, cross_val_score\n",
    "from sklearn.pipeline import Pipeline\n",
    "from sklearn.feature_extraction.text import TfidfVectorizer, TfidfTransformer\n",
    "from sklearn.naive_bayes import MultinomialNB\n",
    "from sklearn.linear_model import LogisticRegression\n",
    "from sklearn.ensemble import RandomForestClassifier, AdaBoostClassifier, VotingClassifier\n",
    "from xgboost import XGBClassifier\n",
    "from sklearn.neighbors import KNeighborsClassifier\n",
    "\n",
    "# Evaluation Metrics and Visualization\n",
    "from sklearn.metrics import classification_report, accuracy_score, ConfusionMatrixDisplay, confusion_matrix\n",
    "import matplotlib.pyplot as plt\n",
    "\n",
    "# Imbalanced-learn for dealing with class imbalance\n",
    "from imblearn.over_sampling import RandomOverSampler\n",
    "\n",
    "# Other Utilities\n",
    "from itertools import combinations\n",
    "\n",
    "# Set up warning suppression\n",
    "import warnings\n",
    "warnings.filterwarnings(\"ignore\")"
   ]
  },
  {
   "cell_type": "markdown",
   "metadata": {},
   "source": [
    "### Load and Explore the Dataset\n",
    "First, we load the dataset to understand its basic structure, including the number of entries, columns, and types of data it contains. This initial exploration is crucial for planning our preprocessing steps.\n",
    "\n",
    "The dataset contains three columns:\n",
    "- `tweet_text`: The text of the tweet.\n",
    "- `emotion_in_tweet_is_directed_at`: The product or brand the tweet is directed at (e.g., iPhone, iPad, Google).\n",
    "- `is_there_an_emotion_directed_at_a_brand_or_product`: The sentiment of the tweet (e.g., Positive emotion, Negative emotion).\n",
    "\n"
   ]
  },
  {
   "cell_type": "code",
   "execution_count": 2,
   "metadata": {},
   "outputs": [
    {
     "name": "stdout",
     "output_type": "stream",
     "text": [
      "Dataset shape: (9093, 3)\n",
      "Data types:\n",
      " tweet_text                                            object\n",
      "emotion_in_tweet_is_directed_at                       object\n",
      "is_there_an_emotion_directed_at_a_brand_or_product    object\n",
      "dtype: object\n"
     ]
    },
    {
     "data": {
      "text/html": [
       "<div>\n",
       "<style scoped>\n",
       "    .dataframe tbody tr th:only-of-type {\n",
       "        vertical-align: middle;\n",
       "    }\n",
       "\n",
       "    .dataframe tbody tr th {\n",
       "        vertical-align: top;\n",
       "    }\n",
       "\n",
       "    .dataframe thead th {\n",
       "        text-align: right;\n",
       "    }\n",
       "</style>\n",
       "<table border=\"1\" class=\"dataframe\">\n",
       "  <thead>\n",
       "    <tr style=\"text-align: right;\">\n",
       "      <th></th>\n",
       "      <th>tweet_text</th>\n",
       "      <th>emotion_in_tweet_is_directed_at</th>\n",
       "      <th>is_there_an_emotion_directed_at_a_brand_or_product</th>\n",
       "    </tr>\n",
       "  </thead>\n",
       "  <tbody>\n",
       "    <tr>\n",
       "      <th>0</th>\n",
       "      <td>.@wesley83 I have a 3G iPhone. After 3 hrs twe...</td>\n",
       "      <td>iPhone</td>\n",
       "      <td>Negative emotion</td>\n",
       "    </tr>\n",
       "    <tr>\n",
       "      <th>1</th>\n",
       "      <td>@jessedee Know about @fludapp ? Awesome iPad/i...</td>\n",
       "      <td>iPad or iPhone App</td>\n",
       "      <td>Positive emotion</td>\n",
       "    </tr>\n",
       "    <tr>\n",
       "      <th>2</th>\n",
       "      <td>@swonderlin Can not wait for #iPad 2 also. The...</td>\n",
       "      <td>iPad</td>\n",
       "      <td>Positive emotion</td>\n",
       "    </tr>\n",
       "    <tr>\n",
       "      <th>3</th>\n",
       "      <td>@sxsw I hope this year's festival isn't as cra...</td>\n",
       "      <td>iPad or iPhone App</td>\n",
       "      <td>Negative emotion</td>\n",
       "    </tr>\n",
       "    <tr>\n",
       "      <th>4</th>\n",
       "      <td>@sxtxstate great stuff on Fri #SXSW: Marissa M...</td>\n",
       "      <td>Google</td>\n",
       "      <td>Positive emotion</td>\n",
       "    </tr>\n",
       "  </tbody>\n",
       "</table>\n",
       "</div>"
      ],
      "text/plain": [
       "                                          tweet_text  \\\n",
       "0  .@wesley83 I have a 3G iPhone. After 3 hrs twe...   \n",
       "1  @jessedee Know about @fludapp ? Awesome iPad/i...   \n",
       "2  @swonderlin Can not wait for #iPad 2 also. The...   \n",
       "3  @sxsw I hope this year's festival isn't as cra...   \n",
       "4  @sxtxstate great stuff on Fri #SXSW: Marissa M...   \n",
       "\n",
       "  emotion_in_tweet_is_directed_at  \\\n",
       "0                          iPhone   \n",
       "1              iPad or iPhone App   \n",
       "2                            iPad   \n",
       "3              iPad or iPhone App   \n",
       "4                          Google   \n",
       "\n",
       "  is_there_an_emotion_directed_at_a_brand_or_product  \n",
       "0                                   Negative emotion  \n",
       "1                                   Positive emotion  \n",
       "2                                   Positive emotion  \n",
       "3                                   Negative emotion  \n",
       "4                                   Positive emotion  "
      ]
     },
     "execution_count": 2,
     "metadata": {},
     "output_type": "execute_result"
    }
   ],
   "source": [
    "# Define the path to the CSV file containing the dataset\n",
    "data_path = 'data/judge-1377884607_tweet_product_company.csv'\n",
    "\n",
    "# Read the dataset into a pandas DataFrame using pd.read_csv()\n",
    "# We specify the encoding as 'ISO-8859-1' to handle potential encoding issues\n",
    "tweets_df = pd.read_csv(data_path, encoding='ISO-8859-1')\n",
    "\n",
    "# Print the shape of the dataset (number of rows and columns)\n",
    "print(\"Dataset shape:\", tweets_df.shape)\n",
    "\n",
    "# Print the data types of each column in the dataset\n",
    "print(\"Data types:\\n\", tweets_df.dtypes)\n",
    "\n",
    "# Display the first few rows of the DataFrame using .head()\n",
    "tweets_df.head()"
   ]
  },
  {
   "cell_type": "markdown",
   "metadata": {},
   "source": [
    "### Missing Values Analysis\n",
    "Identifying and handling missing values is crucial since they can significantly impact the performance of our model.\n",
    "\n",
    "The dataset contains missing values, primarily in the `emotion_in_tweet_is_directed_at` column, with a smaller number in the `tweet_text` column. Since our primary focus is sentiment analysis based on the tweet text, we'll proceed by dropping rows where the tweet text is missing. The `emotion_in_tweet_is_directed_at column` can be ignored for our current purpose, as we are focusing on sentiment, not the specific product mentioned.\n",
    "\n",
    "We will just drop the single row that is missing a tweet because this will not help our model."
   ]
  },
  {
   "cell_type": "code",
   "execution_count": 5,
   "metadata": {},
   "outputs": [
    {
     "name": "stdout",
     "output_type": "stream",
     "text": [
      "Missing values in each column:\n",
      " tweet_text                                               1\n",
      "emotion_in_tweet_is_directed_at                       5802\n",
      "is_there_an_emotion_directed_at_a_brand_or_product       0\n",
      "dtype: int64\n"
     ]
    }
   ],
   "source": [
    "# Check for missing values in each column of the DataFrame using .isnull().sum()\n",
    "missing_values = tweets_df.isnull().sum()\n",
    "\n",
    "# Print the number of missing values in each column\n",
    "print(\"Missing values in each column:\\n\", missing_values)"
   ]
  },
  {
   "cell_type": "code",
   "execution_count": 6,
   "metadata": {},
   "outputs": [],
   "source": [
    "# Remove rows with null values in the 'tweet_text' column in the original DataFrame\n",
    "tweets_df = tweets_df.dropna(subset=['tweet_text'])"
   ]
  },
  {
   "cell_type": "markdown",
   "metadata": {},
   "source": [
    "### Sentiment Distribution\n",
    "Understanding the balance between different sentiment classes helps us gauge the dataset's bias towards certain sentiments. This is important for selecting appropriate modeling and resampling techniques. \n",
    "\n",
    "The `is_there_an_emotion_directed_at_a_brand_or_product` column has four unique labels:\n",
    "\n",
    "- Negative emotion\n",
    "- Positive emotion\n",
    "- No emotion toward brand or product\n",
    "- I can't tell\n",
    "\n",
    "For the sentiment analysis model, we'll focus on positive and negative emotions. We'll treat \"No emotion toward brand or product\" and \"I can't tell\" as neutral or unknown sentiments, which might be excluded from the training to focus the model on distinguishing clearly between positive and negative sentiments.\n",
    "\n",
    "We have 2,978 positive and 570 negative sentiment tweets. This imbalance in the dataset could influence the performance of our model, making it potentially biased towards predicting positive sentiments. We'll need to keep this in mind during the modeling phase, possibly using techniques like oversampling the minority class, undersampling the majority class, or adjusting the class weights in the model training process to address this imbalance."
   ]
  },
  {
   "cell_type": "code",
   "execution_count": 7,
   "metadata": {},
   "outputs": [
    {
     "name": "stdout",
     "output_type": "stream",
     "text": [
      "Sentiment distribution:\n",
      " No emotion toward brand or product    5388\n",
      "Positive emotion                      2978\n",
      "Negative emotion                       570\n",
      "I can't tell                           156\n",
      "Name: is_there_an_emotion_directed_at_a_brand_or_product, dtype: int64\n"
     ]
    }
   ],
   "source": [
    "sentiment_distribution = tweets_df['is_there_an_emotion_directed_at_a_brand_or_product'].value_counts()\n",
    "print(\"Sentiment distribution:\\n\", sentiment_distribution)"
   ]
  },
  {
   "cell_type": "markdown",
   "metadata": {},
   "source": [
    "### Text Length Analysis\n",
    "Analyzing the length of tweets can reveal insights about the dataset's variability. To address the variability in text length observed in the dataset, we can leverage techniques such as text cleaning and TF-IDF (Term Frequency-Inverse Document Frequency) vectorization. Through text cleaning, we can remove punctuation, URLs, special characters, mentions, hashtags, and other non-essential elements from the tweets, resulting in a more standardized format. This process helps to ensure that the content of the tweets remains intact while eliminating unnecessary variations in text structure. Additionally, TF-IDF vectorization transforms each tweet into a fixed-length numerical vector representation based on the importance of each term relative to the entire dataset. This technique allows us to capture the significance of words in each tweet while normalizing the representation regardless of the absolute length of the tweet. \n",
    "\n",
    "These preprocessing steps are particularly useful given the insights gained from analyzing the text length distribution, where the mean length of tweets is approximately 105 characters with a standard deviation of around 27 characters. By employing these methods, we can effectively manage the variability in text length and facilitate consistent analysis across the dataset for tasks such as sentiment classification.\n"
   ]
  },
  {
   "cell_type": "code",
   "execution_count": 8,
   "metadata": {},
   "outputs": [
    {
     "data": {
      "text/plain": [
       "count    9092.000000\n",
       "mean      104.962275\n",
       "std        27.187640\n",
       "min        11.000000\n",
       "25%        86.000000\n",
       "50%       109.000000\n",
       "75%       126.000000\n",
       "max       178.000000\n",
       "Name: text_length, dtype: float64"
      ]
     },
     "execution_count": 8,
     "metadata": {},
     "output_type": "execute_result"
    }
   ],
   "source": [
    "tweets_df['text_length'] = tweets_df['tweet_text'].apply(lambda x: len(str(x)))\n",
    "tweets_df['text_length'].describe()"
   ]
  },
  {
   "cell_type": "markdown",
   "metadata": {},
   "source": [
    "### Frequent Words Analysis\n",
    "The frequent words analysis provides insights into the most commonly occurring words in the dataset, which can help us understand common themes and refine our list of stopwords. In the results provided, we observe that certain words such as **'#'**, **'sxsw'**, **'@'**, **'mention'**, **'.'**, **'the'**, **'link'**, **'}'**, **'{'**, **'to'**, **','**, **'at'**, **'rt'**, **';'**, **'&'**, **'google'**, **'for'**, **'ipad'**, **'!'**, and **'a'** appear frequently. However, many of these words are not informative in terms of sentiment analysis or topic classification. For example, symbols like **'#'**, **'@'**, **'.'**, **','**, **';'**, **'&'**, **'{'**, **'}'**, **'!'**, and **'rt'** are not indicative of sentiment and may be artifacts of social media platforms or text formatting. Similarly, common English stopwords like **'the'**, **'to'**, **'for'**, and **'a'** typically carry little sentiment value and can be safely removed to improve the accuracy of our models. Therefore, these frequent words will need to be removed from the text data before further analysis to focus on more meaningful terms that contribute to sentiment or topic identification.\n"
   ]
  },
  {
   "cell_type": "code",
   "execution_count": 9,
   "metadata": {},
   "outputs": [
    {
     "data": {
      "text/plain": [
       "[('#', 15875),\n",
       " ('sxsw', 9516),\n",
       " ('@', 7194),\n",
       " ('mention', 7124),\n",
       " ('.', 5506),\n",
       " ('the', 4424),\n",
       " ('link', 4313),\n",
       " ('}', 4298),\n",
       " ('{', 4296),\n",
       " ('to', 3586),\n",
       " (',', 3533),\n",
       " ('at', 3102),\n",
       " ('rt', 2962),\n",
       " (';', 2800),\n",
       " ('&', 2707),\n",
       " ('google', 2595),\n",
       " ('for', 2545),\n",
       " ('ipad', 2446),\n",
       " ('!', 2398),\n",
       " ('a', 2312)]"
      ]
     },
     "execution_count": 9,
     "metadata": {},
     "output_type": "execute_result"
    }
   ],
   "source": [
    "# Concatenate all tweet texts into a single string, convert to lowercase\n",
    "all_words = ' '.join(tweets_df['tweet_text'].dropna()).lower()\n",
    "\n",
    "# Tokenize the concatenated string into individual words\n",
    "all_words_tokenized = word_tokenize(all_words)\n",
    "\n",
    "# Count the occurrences of each word and select the 20 most common words\n",
    "word_counts = Counter(all_words_tokenized)\n",
    "most_common_words = word_counts.most_common(20)"
   ]
  },
  {
   "cell_type": "markdown",
   "metadata": {},
   "source": [
    "### Special Characters and URLs Analysis\n",
    "Examining **special characters** and **URLs** in tweets is essential for preprocessing text data before sentiment analysis. **Special characters** such as hashtags (**'#'**), mentions (**'@'**), punctuation marks (**'.'**), and symbols (**'&'**, **'-'**, etc.) are often used in tweets for formatting, emphasis, or conveying information. While some of these characters may carry sentiment value (e.g., emojis), others are merely artifacts of social media communication and do not contribute meaningfully to sentiment analysis. Similarly, **URLs**, which often appear in tweets as hyperlinks to external content, typically do not convey sentiment on their own and may introduce noise into the analysis. Therefore, removing these **special characters** and **URLs** can help streamline the text preprocessing pipeline, reducing complexity and potentially improving model performance by focusing on the essential content of the tweets. Additionally, removing **URLs** can help mitigate privacy and security concerns associated with accessing external web resources during analysis.\n"
   ]
  },
  {
   "cell_type": "code",
   "execution_count": 10,
   "metadata": {},
   "outputs": [
    {
     "name": "stdout",
     "output_type": "stream",
     "text": [
      "Special characters counts: [('#', 15875), ('.', 8382), ('@', 7194), ('}', 4298), ('{', 4296), (',', 3558), (\"'\", 2903), (';', 2800), ('&', 2707), ('-', 2438)]\n",
      "Number of URLs: 44\n"
     ]
    }
   ],
   "source": [
    "# Extract special characters from each tweet using regular expressions\n",
    "special_chars = tweets_df['tweet_text'].apply(lambda x: re.findall(r'[^\\w\\s]', str(x)))\n",
    "\n",
    "# Count the occurrences of each special character\n",
    "special_chars_counts = Counter([item for sublist in special_chars for item in sublist])\n",
    "\n",
    "# Print the 10 most common special characters and their counts\n",
    "print(\"Special characters counts:\", special_chars_counts.most_common(10))\n",
    "\n",
    "# Count the number of URLs in the tweets using regular expressions\n",
    "urls_counts = tweets_df['tweet_text'].apply(lambda x: len(re.findall(r\"http\\S+|www\\S+|https\\S+\", str(x)))).sum()\n",
    "\n",
    "# Print the total number of URLs found in the tweets\n",
    "print(\"Number of URLs:\", urls_counts)\n"
   ]
  },
  {
   "cell_type": "markdown",
   "metadata": {},
   "source": [
    "## Preprocessing Before Train/Test Split\n"
   ]
  },
  {
   "cell_type": "markdown",
   "metadata": {},
   "source": [
    "### Encoding Sentiment Labels\n",
    "In the process of preparing our data for modeling, it's essential to convert the sentiment labels from their textual representation into a numerical format that our machine learning algorithms can understand. To achieve this, we utilize a mapping dictionary called sentiment_mapping, where we assign the value 1 to represent positive emotions and the value 0 to represent negative emotions. This encoding allows us to transform the sentiment labels from 'Positive emotion' and 'Negative emotion' to their corresponding numerical equivalents. By applying this mapping using the map() function to the column containing the sentiment labels in our DataFrame (tweets_df), we create a new column named sentiment_label, which now holds the encoded numerical values. This encoding step is crucial as it facilitates the subsequent modeling process, enabling our algorithms to effectively learn and make predictions based on the sentiment labels."
   ]
  },
  {
   "cell_type": "code",
   "execution_count": 11,
   "metadata": {},
   "outputs": [],
   "source": [
    "# Define a mapping dictionary to encode sentiment labels into numerical format\n",
    "sentiment_mapping = {\n",
    "    'Positive emotion': 1,  # Assign value 1 to represent positive emotion\n",
    "    'Negative emotion': 0   # Assign value 0 to represent negative emotion\n",
    "}\n",
    "\n",
    "# Map sentiment labels to their corresponding numerical values using the defined mapping\n",
    "# The 'is_there_an_emotion_directed_at_a_brand_or_product' column contains the sentiment labels\n",
    "# The result is stored in a new column named 'sentiment_label'\n",
    "tweets_df['sentiment_label'] = tweets_df['is_there_an_emotion_directed_at_a_brand_or_product'].map(sentiment_mapping)"
   ]
  },
  {
   "cell_type": "code",
   "execution_count": 12,
   "metadata": {},
   "outputs": [
    {
     "name": "stdout",
     "output_type": "stream",
     "text": [
      "<class 'pandas.core.frame.DataFrame'>\n",
      "Int64Index: 9092 entries, 0 to 9092\n",
      "Data columns (total 5 columns):\n",
      " #   Column                                              Non-Null Count  Dtype  \n",
      "---  ------                                              --------------  -----  \n",
      " 0   tweet_text                                          9092 non-null   object \n",
      " 1   emotion_in_tweet_is_directed_at                     3291 non-null   object \n",
      " 2   is_there_an_emotion_directed_at_a_brand_or_product  9092 non-null   object \n",
      " 3   text_length                                         9092 non-null   int64  \n",
      " 4   sentiment_label                                     3548 non-null   float64\n",
      "dtypes: float64(1), int64(1), object(3)\n",
      "memory usage: 426.2+ KB\n"
     ]
    }
   ],
   "source": [
    "tweets_df.info()"
   ]
  },
  {
   "cell_type": "markdown",
   "metadata": {},
   "source": [
    "### Handling Missing Values\n",
    "After encoding sentiment labels into numerical format, some rows in the dataset may still have missing sentiment labels due to unknown or no emotion expressed in the tweets. To ensure the integrity of our model training, it's essential to handle these missing values appropriately. In this case, we choose to remove rows with missing sentiment labels or cleaned tweets. By dropping these rows, we focus our analysis solely on tweets with clearly defined positive or negative emotions. This approach helps prevent potential misinterpretation of missing sentiment labels during model training, which could otherwise lead to biased or inaccurate predictions. Consequently, by retaining only the tweets with explicit sentiment labels, we streamline the dataset and enhance the quality of our sentiment analysis task."
   ]
  },
  {
   "cell_type": "code",
   "execution_count": 13,
   "metadata": {},
   "outputs": [
    {
     "name": "stdout",
     "output_type": "stream",
     "text": [
      "<class 'pandas.core.frame.DataFrame'>\n",
      "Int64Index: 3548 entries, 0 to 9088\n",
      "Data columns (total 5 columns):\n",
      " #   Column                                              Non-Null Count  Dtype  \n",
      "---  ------                                              --------------  -----  \n",
      " 0   tweet_text                                          3548 non-null   object \n",
      " 1   emotion_in_tweet_is_directed_at                     3191 non-null   object \n",
      " 2   is_there_an_emotion_directed_at_a_brand_or_product  3548 non-null   object \n",
      " 3   text_length                                         3548 non-null   int64  \n",
      " 4   sentiment_label                                     3548 non-null   float64\n",
      "dtypes: float64(1), int64(1), object(3)\n",
      "memory usage: 166.3+ KB\n"
     ]
    }
   ],
   "source": [
    "# Dropping rows with any missing sentiment labels or cleaned tweets\n",
    "tweets_df = tweets_df.dropna(subset=['sentiment_label'])\n",
    "tweets_df.info()\n"
   ]
  },
  {
   "cell_type": "markdown",
   "metadata": {},
   "source": [
    "## Train/Test Split\n",
    "Before training our model, we'll split the dataset into training and testing sets. This allows us to train our model on one subset of the data and then test its performance on unseen data, providing a better evaluation of its real-world performance. We will allocate 20% of the data for testing and 80% for training. The split maintains the distribution of sentiment labels to prevent bias. A random seed of 42 ensures reproducibility across runs.\n"
   ]
  },
  {
   "cell_type": "code",
   "execution_count": 14,
   "metadata": {},
   "outputs": [],
   "source": [
    "#Splitting the data into training and testing sets\n",
    "X_train, X_test, y_train, y_test = train_test_split(\n",
    "    tweets_df['tweet_text'],\n",
    "    tweets_df['sentiment_label'],\n",
    "    stratify=tweets_df['sentiment_label'],\n",
    "    test_size=0.2, \n",
    "    random_state=42\n",
    ")\n"
   ]
  },
  {
   "cell_type": "markdown",
   "metadata": {},
   "source": [
    "### Cleaning the Text Data\n",
    "The next step in our preprocessing is to clean the text data. In this section, the text data undergoes preprocessing to ensure its suitability for sentiment analysis. The clean_tweet function is defined to perform several cleaning tasks. First, it converts all text to lowercase to standardize the case. Then, it removes punctuation, URLs, special characters, mentions, hashtags, and the term \"RT\" (typically used for retweets). Tokenization breaks the text into individual words, followed by the removal of stopwords and unnecessary whitespace. Lemmatization is applied to reduce words to their base forms. Finally, numeric characters are removed, and the cleaned tokens are rejoined into a string format. This cleaning process helps to eliminate noise and focus on the essential content of the tweets, enhancing the effectiveness of sentiment analysis. The cleaned text data is then applied to both the training and testing sets to prepare them for further processing and model training.\n"
   ]
  },
  {
   "cell_type": "code",
   "execution_count": 15,
   "metadata": {},
   "outputs": [
    {
     "data": {
      "text/plain": [
       "7003        someone buy ipad v1 wait line get v2 tomorrow\n",
       "8981    think effing hubby line ipad someone point tow...\n",
       "7351    smart company rumor apple opening temporary st...\n",
       "7483                   google map mobile look awesomesxsw\n",
       "1642        wishing excellent day today ive got ipad envy\n",
       "Name: tweet_text, dtype: object"
      ]
     },
     "execution_count": 15,
     "metadata": {},
     "output_type": "execute_result"
    }
   ],
   "source": [
    "#\n",
    "def clean_tweet(tweet):\n",
    "   # Lowercase the text\n",
    "    tweet = tweet.lower()\n",
    "    \n",
    "    # Remove punctuation\n",
    "    tweet = tweet.translate(str.maketrans('', '', string.punctuation))\n",
    "    \n",
    "    # Remove URLs\n",
    "    tweet = re.sub(r'http\\S+|www\\S+|https\\S+', ' ', tweet, flags=re.MULTILINE)\n",
    "    \n",
    "    # Remove special characters\n",
    "    tweet = re.sub(r'[^\\w\\s]', '', tweet)\n",
    "        \n",
    "    # Remove the word link\n",
    "    tweet = re.sub(r'\\blink\\b', ' ', tweet)\n",
    "    \n",
    "     # Remove mentions\n",
    "    tweet = re.sub(r'@\\w+\\b', ' ', tweet) \n",
    "    \n",
    "    # Remove the word mention\n",
    "    tweet = re.sub(r'\\bmention\\b', ' ', tweet)\n",
    "\n",
    "    # Remove sxsw\n",
    "    tweet = re.sub(r'\\bsxsw\\b', ' ', tweet)\n",
    "    \n",
    "     # Remove the word \"sxsw\" from concatenated words\n",
    "    tweet = re.sub(r'(?<=\\S)sxsw(?=\\S)', '', tweet)\n",
    "\n",
    "    # Remove hashtags\n",
    "    tweet = re.sub(r'#\\w+', ' ', tweet)\n",
    "    \n",
    "    # Remove \"RT\"\n",
    "    tweet = re.sub(r'\\brt\\b', ' ', tweet, flags=re.IGNORECASE)\n",
    "    \n",
    "    # Tokenization\n",
    "    tokens = word_tokenize(tweet)\n",
    "    \n",
    "     # Remove stopwords and unnecessary white spaces\n",
    "    stop_words = set(stopwords.words('english'))\n",
    "    tokens = [word.strip() for word in tokens if word not in stop_words]\n",
    "    \n",
    "    # Lemmatization\n",
    "    lemmatizer = WordNetLemmatizer()\n",
    "    tokens = [lemmatizer.lemmatize(word) for word in tokens]\n",
    "    \n",
    "    # Remove numeric characters\n",
    "    tokens = [word for word in tokens if not word.isdigit()]\n",
    "    \n",
    "    # Join tokens back into a string\n",
    "    clean_tweet = ' '.join(tokens).strip()\n",
    "    \n",
    "    return clean_tweet\n",
    "\n",
    "\n",
    "X_train = X_train.apply(clean_tweet)\n",
    "X_test = X_test.apply(clean_tweet)"
   ]
  },
  {
   "cell_type": "code",
   "execution_count": 16,
   "metadata": {},
   "outputs": [
    {
     "name": "stdout",
     "output_type": "stream",
     "text": [
      "Special characters counts: []\n",
      "Number of URLs: 0\n"
     ]
    }
   ],
   "source": [
    "#Confirming all special characters and URLS are removed from the training set.\n",
    "special_chars = X_train.apply(lambda x: re.findall(r'[^\\w\\s]', str(x)))\n",
    "special_chars_counts = Counter([item for sublist in special_chars for item in sublist])\n",
    "print(\"Special characters counts:\", special_chars_counts.most_common(10))\n",
    "\n",
    "#URLs\n",
    "urls_counts = X_train.apply(lambda x: len(re.findall(r\"http\\S+|www\\S+|https\\S+\", str(x)))).sum()\n",
    "print(\"Number of URLs:\", urls_counts)\n"
   ]
  },
  {
   "cell_type": "code",
   "execution_count": 17,
   "metadata": {},
   "outputs": [
    {
     "name": "stdout",
     "output_type": "stream",
     "text": [
      "Special characters counts: []\n",
      "Number of URLs: 0\n"
     ]
    }
   ],
   "source": [
    "#Confirming all special characters and URLS are removed from the test set.\n",
    "special_chars = X_test.apply(lambda x: re.findall(r'[^\\w\\s]', str(x)))\n",
    "special_chars_counts = Counter([item for sublist in special_chars for item in sublist])\n",
    "print(\"Special characters counts:\", special_chars_counts.most_common(10))\n",
    "\n",
    "#URLs\n",
    "urls_counts = X_test.apply(lambda x: len(re.findall(r\"http\\S+|www\\S+|https\\S+\", str(x)))).sum()\n",
    "print(\"Number of URLs:\", urls_counts)\n"
   ]
  },
  {
   "cell_type": "code",
   "execution_count": 18,
   "metadata": {},
   "outputs": [
    {
     "data": {
      "text/plain": [
       "[('ipad', 941),\n",
       " ('apple', 775),\n",
       " ('google', 673),\n",
       " ('iphone', 531),\n",
       " ('store', 473),\n",
       " ('app', 361),\n",
       " ('new', 327),\n",
       " ('austin', 245),\n",
       " ('popup', 186),\n",
       " ('android', 181),\n",
       " ('ipad2', 178),\n",
       " ('launch', 159),\n",
       " ('get', 155),\n",
       " ('amp', 155),\n",
       " ('one', 138),\n",
       " ('time', 132),\n",
       " ('like', 129),\n",
       " ('line', 128),\n",
       " ('social', 125),\n",
       " ('circle', 120)]"
      ]
     },
     "execution_count": 18,
     "metadata": {},
     "output_type": "execute_result"
    }
   ],
   "source": [
    "#Checking most frequent words in the training set. This looks good.\n",
    "all_words = ' '.join(X_train.dropna()).lower()\n",
    "all_words_tokenized = word_tokenize(all_words)\n",
    "\n",
    "word_counts = Counter(all_words_tokenized)\n",
    "word_counts.most_common(20)\n"
   ]
  },
  {
   "cell_type": "code",
   "execution_count": 19,
   "metadata": {},
   "outputs": [
    {
     "data": {
      "text/plain": [
       "[('ipad', 223),\n",
       " ('apple', 210),\n",
       " ('google', 159),\n",
       " ('iphone', 144),\n",
       " ('store', 121),\n",
       " ('app', 90),\n",
       " ('new', 75),\n",
       " ('austin', 71),\n",
       " ('get', 51),\n",
       " ('popup', 47),\n",
       " ('ipad2', 42),\n",
       " ('android', 41),\n",
       " ('amp', 40),\n",
       " ('launch', 36),\n",
       " ('day', 33),\n",
       " ('one', 33),\n",
       " ('line', 33),\n",
       " ('im', 32),\n",
       " ('party', 30),\n",
       " ('social', 29)]"
      ]
     },
     "execution_count": 19,
     "metadata": {},
     "output_type": "execute_result"
    }
   ],
   "source": [
    "#Checking most frequent words in the test set. This looks good.\n",
    "all_words = ' '.join(X_test.dropna()).lower()\n",
    "all_words_tokenized = word_tokenize(all_words)\n",
    "\n",
    "word_counts = Counter(all_words_tokenized)\n",
    "word_counts.most_common(20)\n"
   ]
  },
  {
   "cell_type": "markdown",
   "metadata": {},
   "source": [
    "### Text Vectorization (TF-IDF)\n",
    "In the text vectorization step, we convert the cleaned text data into a numerical format suitable for machine learning models using TF-IDF (Term Frequency-Inverse Document Frequency). TF-IDF reflects the importance of each word in a document relative to a collection of documents, allowing us to weigh terms accordingly. In the provided code, we first define a TF-IDF vectorizer with parameters for stopwords removal and maximum features to limit the dimensionality of the vectorized data. Next, we fit and transform the training data to create TF-IDF matrices, both for the training and test sets, ensuring consistency in data representation. Finally, we apply normalization to the TF-IDF matrices using 'l2' normalization to scale the data, which can improve model performance. Overall, this process enables us to represent text data numerically while preserving the inherent semantic information, facilitating effective sentiment analysis or classification tasks."
   ]
  },
  {
   "cell_type": "code",
   "execution_count": 20,
   "metadata": {},
   "outputs": [],
   "source": [
    "# Define the TF-IDF vectorizer with stopwords removal and maximum features\n",
    "tfidf_vectorizer = TfidfVectorizer(stop_words=stopwords.words('english'), max_features=10000)\n",
    "\n",
    "# Fit and transform the training data\n",
    "X_train_tfidf_un = tfidf_vectorizer.fit_transform(X_train)\n",
    "\n",
    "# Transform the test data using the fitted TF-IDF vectorizer\n",
    "X_test_tfidf_un = tfidf_vectorizer.transform(X_test)\n",
    "\n",
    "# Normalize TF-IDF matrices\n",
    "tfidf_transformer = TfidfTransformer(norm='l2')  # 'l2' normalization\n",
    "X_train_tfidf = tfidf_transformer.fit_transform(X_train_tfidf_un)\n",
    "X_test_tfidf = tfidf_transformer.transform(X_test_tfidf_un)"
   ]
  },
  {
   "cell_type": "markdown",
   "metadata": {},
   "source": [
    "### Handling Class Imbalance\n",
    "To tackle the class imbalance observed in the sentiment labels, we employ random oversampling using the RandomOverSampler technique. This method involves randomly duplicating instances from the minority class (in this case, negative sentiment) to balance the class distribution. By increasing the representation of the minority class, we aim to prevent our model from becoming biased towards the majority class (positive sentiment), thereby improving its ability to generalize to unseen data and make accurate predictions."
   ]
  },
  {
   "cell_type": "code",
   "execution_count": 21,
   "metadata": {},
   "outputs": [
    {
     "data": {
      "text/plain": [
       "((4764, 5218),\n",
       " 0.0    2382\n",
       " 1.0    2382\n",
       " Name: sentiment_label, dtype: int64)"
      ]
     },
     "execution_count": 21,
     "metadata": {},
     "output_type": "execute_result"
    }
   ],
   "source": [
    "#Initialize the RandomOverSampler\n",
    "ros = RandomOverSampler(random_state=42)\n",
    "\n",
    "#Resample the training data\n",
    "X_train_resampled, y_train_resampled = ros.fit_resample(X_train_tfidf, y_train)\n",
    "\n",
    "# Check the balance of the resampled data\n",
    "resampled_balance = pd.Series(y_train_resampled).value_counts()\n",
    "\n",
    "X_train_resampled.shape, resampled_balance"
   ]
  },
  {
   "cell_type": "markdown",
   "metadata": {},
   "source": [
    "## Modeling\n",
    "### Baseline Models\n",
    "In this code snippet, we're evaluating the performance of several machine learning models for sentiment analysis. The models include Multinomial Naive Bayes, Logistic Regression, Random Forest, AdaBoost, XGBoost, and K-Nearest Neighbors. These models are implemented using default settings, without any hyperparameter tuning, to provide a baseline assessment of their performance. The evaluation is conducted using cross-validation, splitting the training data into multiple subsets for training and validation. The results, displayed in a DataFrame, show the mean accuracy scores across different cross-validation folds for each model. While Random Forest demonstrates the highest mean accuracy (97.40%), it's noteworthy that there are indications of slight overfitting, particularly evident in models like Multinomial Naive Bayes and Logistic Regression. This overfitting was expected, given the class imbalance in the dataset, where oversampling was employed to mitigate bias towards the majority class. These results serve as a starting point for model selection and further optimization to improve generalization performance."
   ]
  },
  {
   "cell_type": "code",
   "execution_count": 22,
   "metadata": {},
   "outputs": [
    {
     "name": "stdout",
     "output_type": "stream",
     "text": [
      "                     Model  CV Train Mean  CV Test Mean  CV Test Std\n",
      "2            Random Forest         0.9988        0.9740       0.0040\n",
      "1      Logistic Regression         0.9837        0.9509       0.0076\n",
      "0  Multinomial Naive Bayes         0.9727        0.9215       0.0095\n",
      "4                  XGBoost         0.9622        0.8969       0.0058\n",
      "5      K-Nearest Neighbors         0.9102        0.8587       0.0139\n",
      "3                 AdaBoost         0.7803        0.7550       0.0061\n"
     ]
    }
   ],
   "source": [
    "\n",
    "# List to keep track of model performance\n",
    "model_performance = []\n",
    "\n",
    "# Function to evaluate a model and add its performance to our list\n",
    "def evaluate_model(model, model_name, X, y, cv=5):\n",
    "    scores = cross_validate(model, X, y, cv=cv, scoring='accuracy', return_train_score = True)\n",
    "    model_performance.append({\n",
    "        'Model': model_name,\n",
    "        'CV Train Mean': round(np.mean(scores['train_score']),4),\n",
    "        'CV Test Mean': round(np.mean(scores['test_score']),4),\n",
    "        'CV Test Std': round(np.std(scores['test_score']),4)\n",
    "    })\n",
    "\n",
    "\n",
    "# Define pipelines for different models\n",
    "nb_pipeline = Pipeline([('clf', MultinomialNB())])\n",
    "lr_pipeline = Pipeline([('clf', LogisticRegression(random_state=42))])\n",
    "rf_pipeline = Pipeline([('clf', RandomForestClassifier(random_state=42))])\n",
    "ada_pipeline = Pipeline([('clf', AdaBoostClassifier(random_state=42))])\n",
    "xgb_pipeline = Pipeline([('clf', XGBClassifier(random_state=42))])\n",
    "knn_pipeline = Pipeline([('clf', KNeighborsClassifier())])\n",
    "\n",
    "# Evaluate models\n",
    "evaluate_model(nb_pipeline, 'Multinomial Naive Bayes', X_train_resampled, y_train_resampled)\n",
    "evaluate_model(lr_pipeline, 'Logistic Regression', X_train_resampled, y_train_resampled)\n",
    "evaluate_model(rf_pipeline, 'Random Forest', X_train_resampled, y_train_resampled)\n",
    "evaluate_model(ada_pipeline, 'AdaBoost', X_train_resampled, y_train_resampled)\n",
    "evaluate_model(xgb_pipeline, 'XGBoost', X_train_resampled, y_train_resampled)\n",
    "evaluate_model(knn_pipeline, 'K-Nearest Neighbors', X_train_resampled, y_train_resampled)\n",
    "\n",
    "\n",
    "# Convert the performance list to a DataFrame\n",
    "performance_df = pd.DataFrame(model_performance)\n",
    "\n",
    "# Sort the DataFrame by 'CV Test Accuracy Mean'\n",
    "sorted_performance_df = performance_df.sort_values(by='CV Test Mean', ascending=False)\n",
    "\n",
    "# Display the performance DataFrame\n",
    "print(sorted_performance_df)"
   ]
  },
  {
   "cell_type": "markdown",
   "metadata": {},
   "source": [
    "### Hyperparameter Tuning with GridSearchCV\n",
    "n the next step of our analysis, we will employ GridSearchCV to perform hyperparameter tuning for each of our machine learning models. GridSearchCV systematically searches through a predefined grid of hyperparameters and selects the combination that yields the best performance based on a specified evaluation metric. By tuning hyperparameters such as regularization strength, tree depth, and learning rate, we aim to optimize the models' performance and enhance their ability to generalize to unseen data. This process allows us to explore a wider range of model configurations and fine-tune them to achieve better accuracy and robustness in sentiment analysis.\n"
   ]
  },
  {
   "cell_type": "markdown",
   "metadata": {},
   "source": [
    "#### Random Forest\n",
    "After performing hyperparameter tuning using GridSearchCV for the Random Forest model, we obtained the best set of parameters as follows: 'criterion': 'entropy', 'min_samples_leaf': 1, 'min_samples_split': 2, and 'n_estimators': 500. The best mean cross-validated accuracy achieved with these parameters was approximately 98.66%. Subsequently, when evaluating the best model on the test set, we achieved an accuracy of around 89.58%.\n",
    "\n",
    "When comparing the results of the hyperparameter-tuned Random Forest model to the baseline models, we observe slight improvements in performance. The baseline Random Forest model had a cross-validated mean accuracy of approximately 97.40%, while the hyperparameter-tuned model achieved a higher cross-validated mean accuracy of approximately 98.66%. "
   ]
  },
  {
   "cell_type": "code",
   "execution_count": 23,
   "metadata": {},
   "outputs": [
    {
     "name": "stdout",
     "output_type": "stream",
     "text": [
      "Fitting 5 folds for each of 200 candidates, totalling 1000 fits\n",
      "Best Parameters: {'clf__criterion': 'entropy', 'clf__min_samples_leaf': 1, 'clf__min_samples_split': 2, 'clf__n_estimators': 500}\n",
      "Best Score: 0.9865665258758277\n",
      "Accuracy of Best Model: 0.895774647887324\n",
      "Classification Report of Best Model:\n",
      "               precision    recall  f1-score   support\n",
      "\n",
      "         0.0       0.88      0.40      0.55       114\n",
      "         1.0       0.90      0.99      0.94       596\n",
      "\n",
      "    accuracy                           0.90       710\n",
      "   macro avg       0.89      0.70      0.75       710\n",
      "weighted avg       0.89      0.90      0.88       710\n",
      "\n"
     ]
    },
    {
     "data": {
      "image/png": "[encoded data removed]",
      "text/plain": [
       "<Figure size 432x288 with 2 Axes>"
      ]
     },
     "metadata": {
      "needs_background": "light"
     },
     "output_type": "display_data"
    }
   ],
   "source": [
    "# Define the parameter grid for Random Forest\n",
    "param_grid = {\n",
    "    'clf__n_estimators': [100, 200, 300, 400, 500],\n",
    "    'clf__min_samples_split': [2, 5, 7, 10],\n",
    "    'clf__min_samples_leaf': [1, 2, 3, 4, 5],\n",
    "    'clf__criterion': ['gini', 'entropy']  # Example addition\n",
    "    }\n",
    "\n",
    "# Create a GridSearchCV object with the Random Forest pipeline and the parameter grid\n",
    "grid_search = GridSearchCV(rf_pipeline, param_grid, cv=5, scoring='accuracy', n_jobs=-1, verbose=2)\n",
    "\n",
    "# Fit GridSearchCV to your data\n",
    "grid_search.fit(X_train_resampled, y_train_resampled)\n",
    "\n",
    "# Get the best model\n",
    "best_rf_model = grid_search.best_estimator_\n",
    "\n",
    "# Print the best parameters and the best score\n",
    "print(\"Best Parameters:\", grid_search.best_params_)\n",
    "print(\"Best Score:\", grid_search.best_score_)\n",
    "\n",
    "# Predict using the best model\n",
    "y_pred_best = best_rf_model.predict(X_test_tfidf)  # Make sure to transform your test set features as needed\n",
    "\n",
    "# Evaluate the best model\n",
    "print(\"Accuracy of Best Model:\", accuracy_score(y_test, y_pred_best))\n",
    "print(\"Classification Report of Best Model:\\n\", classification_report(y_test, y_pred_best))\n",
    "\n",
    "\n",
    "# Plot confusion matrix for the best Logistic Regression model\n",
    "disp = ConfusionMatrixDisplay.from_estimator(best_rf_model, X_test_tfidf, y_test, display_labels=['Negative', 'Positive'])\n",
    "disp.ax_.set_title('Confusion Matrix (Random Forest)')\n",
    "plt.show()"
   ]
  },
  {
   "cell_type": "markdown",
   "metadata": {},
   "source": [
    "#### Logistic Regression\n",
    "After conducting hyperparameter tuning using GridSearchCV for the Logistic Regression model, the best parameters were identified as 'C': 200, 'max_iter': 900, 'penalty': 'l1', and 'solver': 'saga'. With these parameters, the best mean cross-validated accuracy reached approximately 96.99%. Upon evaluating this tuned model on the test set, we achieved an accuracy of approximately 89.44%.\n",
    "\n",
    "Comparing these results to the baseline Logistic Regression model, which had a cross-validated mean accuracy of approximately 95.09%, we observe slight improvements in performance. The hyperparameter-tuned model demonstrates enhanced accuracy, suggesting that the fine-tuning of parameters has effectively optimized the model's predictive capabilities. Specifically, the precision, recall, and F1-score for both positive and negative classes have improved, indicating better classification performance overall."
   ]
  },
  {
   "cell_type": "code",
   "execution_count": 24,
   "metadata": {},
   "outputs": [
    {
     "name": "stdout",
     "output_type": "stream",
     "text": [
      "Fitting 5 folds for each of 432 candidates, totalling 2160 fits\n",
      "Best Parameters (Logistic Regression): {'clf__C': 200, 'clf__max_iter': 900, 'clf__penalty': 'l1', 'clf__solver': 'saga'}\n",
      "Best Score (Logistic Regression): 0.9699820116924001\n",
      "Accuracy of Best Model (Logistic Regression): 0.8943661971830986\n",
      "Classification Report of Best Model (Logistic Regression):\n",
      "               precision    recall  f1-score   support\n",
      "\n",
      "         0.0       0.73      0.54      0.62       114\n",
      "         1.0       0.92      0.96      0.94       596\n",
      "\n",
      "    accuracy                           0.89       710\n",
      "   macro avg       0.82      0.75      0.78       710\n",
      "weighted avg       0.89      0.89      0.89       710\n",
      "\n"
     ]
    },
    {
     "data": {
      "image/png": "[encoded data removed]",
      "text/plain": [
       "<Figure size 432x288 with 2 Axes>"
      ]
     },
     "metadata": {
      "needs_background": "light"
     },
     "output_type": "display_data"
    }
   ],
   "source": [
    "# Define the parameter grid for Logistic Regression\n",
    "lr_param_grid = {\n",
    "'clf__C': [0.001, 0.01, 0.1, 1, 10, 100, 200, 300, 400],  # Regularization parameter\n",
    "    'clf__penalty': ['l1', 'l2'],  # Regularization penalty\n",
    "    'clf__solver': ['liblinear', 'saga'],  # Optimization algorithm\n",
    "    'clf__max_iter': [100, 200, 300, 400, 500, 600, 700, 800, 900, 1000, 1500, 2000]  # Maximum number of iterations\n",
    "}\n",
    "\n",
    "# Create a GridSearchCV object with the Logistic Regression pipeline and the parameter grid\n",
    "lr_grid_search = GridSearchCV(lr_pipeline, lr_param_grid, cv=5, scoring='accuracy', n_jobs=-1, verbose=2)\n",
    "\n",
    "# Fit GridSearchCV to your data\n",
    "lr_grid_search.fit(X_train_resampled, y_train_resampled)\n",
    "\n",
    "# Get the best model\n",
    "best_lr_model = lr_grid_search.best_estimator_\n",
    "\n",
    "# Print the best parameters and the best score\n",
    "print(\"Best Parameters (Logistic Regression):\", lr_grid_search.best_params_)\n",
    "print(\"Best Score (Logistic Regression):\", lr_grid_search.best_score_)\n",
    "\n",
    "# Predict using the best Logistic Regression model\n",
    "y_pred_lr_best = best_lr_model.predict(X_test_tfidf)  # Make sure to transform your test set features as needed\n",
    "\n",
    "# Evaluate the best Logistic Regression model\n",
    "print(\"Accuracy of Best Model (Logistic Regression):\", accuracy_score(y_test, y_pred_lr_best))\n",
    "print(\"Classification Report of Best Model (Logistic Regression):\\n\", classification_report(y_test, y_pred_lr_best))\n",
    "\n",
    "# Plot confusion matrix for the best Logistic Regression model\n",
    "disp = ConfusionMatrixDisplay.from_estimator(best_lr_model, X_test_tfidf, y_test, display_labels=['Negative', 'Positive'])\n",
    "disp.ax_.set_title('Confusion Matrix (Logistic Regression)')\n",
    "plt.show()"
   ]
  },
  {
   "cell_type": "markdown",
   "metadata": {},
   "source": [
    "#### Naive Bayes\n",
    "After conducting hyperparameter tuning using GridSearchCV for the Multinomial Naive Bayes model, the best parameters were identified as 'alpha': 0.1 and 'fit_prior': True. With these parameters, the best mean cross-validated accuracy reached approximately 94.21%. Upon evaluating this tuned model on the test set, we achieved an accuracy of approximately 86.34%.\n",
    "\n",
    "Comparing these results to the baseline Multinomial Naive Bayes model, which had a cross-validated mean accuracy of approximately 92.15%, we observe slight improvements in performance. The hyperparameter-tuned model demonstrates enhanced accuracy, suggesting that the fine-tuning of parameters has effectively optimized the model's predictive capabilities. Specifically, the precision, recall, and F1-score for both positive and negative classes have improved, indicating better classification performance overall."
   ]
  },
  {
   "cell_type": "code",
   "execution_count": 25,
   "metadata": {},
   "outputs": [
    {
     "name": "stdout",
     "output_type": "stream",
     "text": [
      "Fitting 5 folds for each of 12 candidates, totalling 60 fits\n",
      "Best Parameters (Multinomial Naive Bayes): {'clf__alpha': 0.1, 'clf__fit_prior': True}\n",
      "Best Score (Multinomial Naive Bayes): 0.9420642023860962\n",
      "Accuracy of Best Model (Multinomial Naive Bayes): 0.8633802816901408\n",
      "Classification Report of Best Model (Multinomial Naive Bayes):\n",
      "               precision    recall  f1-score   support\n",
      "\n",
      "         0.0       0.57      0.64      0.60       114\n",
      "         1.0       0.93      0.91      0.92       596\n",
      "\n",
      "    accuracy                           0.86       710\n",
      "   macro avg       0.75      0.77      0.76       710\n",
      "weighted avg       0.87      0.86      0.87       710\n",
      "\n"
     ]
    },
    {
     "data": {
      "image/png": "[encoded data removed]",
      "text/plain": [
       "<Figure size 432x288 with 2 Axes>"
      ]
     },
     "metadata": {
      "needs_background": "light"
     },
     "output_type": "display_data"
    }
   ],
   "source": [
    "# Define the parameter grid for Multinomial Naive Bayes\n",
    "nb_param_grid = {\n",
    "    'clf__alpha': [0.1, 0.2, 0.3, 0.4, 0.5, 1.0],  # Additive smoothing parameter\n",
    "    'clf__fit_prior': [True, False] # Whether to learn class prior probabilities\n",
    "}\n",
    "\n",
    "# Create a GridSearchCV object with the Multinomial Naive Bayes pipeline and the parameter grid\n",
    "nb_grid_search = GridSearchCV(nb_pipeline, nb_param_grid, cv=5, scoring='accuracy', n_jobs=-1, verbose=2)\n",
    "\n",
    "# Fit GridSearchCV to your data\n",
    "nb_grid_search.fit(X_train_resampled, y_train_resampled)\n",
    "\n",
    "# Get the best model\n",
    "best_nb_model = nb_grid_search.best_estimator_\n",
    "\n",
    "# Print the best parameters and the best score\n",
    "print(\"Best Parameters (Multinomial Naive Bayes):\", nb_grid_search.best_params_)\n",
    "print(\"Best Score (Multinomial Naive Bayes):\", nb_grid_search.best_score_)\n",
    "\n",
    "# Predict using the best Multinomial Naive Bayes model\n",
    "y_pred_nb_best = best_nb_model.predict(X_test_tfidf)  # Make sure to transform your test set features as needed\n",
    "\n",
    "# Evaluate the best Multinomial Naive Bayes model\n",
    "print(\"Accuracy of Best Model (Multinomial Naive Bayes):\", accuracy_score(y_test, y_pred_nb_best))\n",
    "print(\"Classification Report of Best Model (Multinomial Naive Bayes):\\n\", classification_report(y_test, y_pred_nb_best))\n",
    "\n",
    "# Plot confusion matrix for the best Logistic Regression model\n",
    "disp = ConfusionMatrixDisplay.from_estimator(best_nb_model, X_test_tfidf, y_test, display_labels=['Negative', 'Positive'])\n",
    "disp.ax_.set_title('Confusion Matrix (Naive Bayes)')\n",
    "plt.show()"
   ]
  },
  {
   "cell_type": "markdown",
   "metadata": {},
   "source": [
    "#### XGBoost\n",
    "After conducting hyperparameter tuning using GridSearchCV for the XGBoost model, the optimal parameters were identified as 'learning_rate': 1.0, 'max_depth': 6, 'min_child_weight': 1, and 'n_estimators': 200. With these parameters, the best mean cross-validated accuracy achieved was approximately 95.00%. Subsequently, upon evaluating this tuned model on the test set, we obtained an accuracy of around 87.75%.\n",
    "\n",
    "Comparing these results to the baseline XGBoost model, which had a cross-validated mean accuracy of approximately 89.69%, we observe a slight decrease in performance. However, the hyperparameter-tuned model still demonstrates robust classification capabilities, with precision, recall, and F1-score values indicating strong performance for both positive and negative classes. Notably, the recall and F1-score for the negative class have slightly decreased, suggesting a slight reduction in the model's ability to correctly identify instances of this class."
   ]
  },
  {
   "cell_type": "code",
   "execution_count": 27,
   "metadata": {},
   "outputs": [
    {
     "name": "stdout",
     "output_type": "stream",
     "text": [
      "Fitting 5 folds for each of 240 candidates, totalling 1200 fits\n",
      "Best Parameters (XGBoost): {'clf__learning_rate': 1.0, 'clf__max_depth': 6, 'clf__min_child_weight': 1, 'clf__n_estimators': 200}\n",
      "Best Score (XGBoost): 0.9500429867644854\n",
      "Accuracy of Best Model (XGBoost): 0.8774647887323944\n",
      "Classification Report of Best Model (XGBoost):\n",
      "               precision    recall  f1-score   support\n",
      "\n",
      "         0.0       0.64      0.54      0.59       114\n",
      "         1.0       0.92      0.94      0.93       596\n",
      "\n",
      "    accuracy                           0.88       710\n",
      "   macro avg       0.78      0.74      0.76       710\n",
      "weighted avg       0.87      0.88      0.87       710\n",
      "\n"
     ]
    },
    {
     "data": {
      "image/png": "[encoded data removed]",
      "text/plain": [
       "<Figure size 432x288 with 2 Axes>"
      ]
     },
     "metadata": {
      "needs_background": "light"
     },
     "output_type": "display_data"
    }
   ],
   "source": [
    "# Define the parameter grid for XGBoost\n",
    "xgb_param_grid = {\n",
    "    'clf__n_estimators': [50, 100, 150, 200],  # Number of boosting rounds\n",
    "    'clf__learning_rate': [0.01, 0.05, 0.1, 0.5, 1.0],  # Step size shrinkage used in update\n",
    "    'clf__max_depth': [3, 4, 5, 6],  # Maximum depth of a tree\n",
    "    'clf__min_child_weight': [1, 2, 3]  # Minimum sum of instance weight (hessian) needed in a child\n",
    "}\n",
    "\n",
    "# Create a GridSearchCV object with the XGBoost pipeline and the parameter grid\n",
    "xgb_grid_search = GridSearchCV(xgb_pipeline, xgb_param_grid, cv=5, scoring='accuracy', n_jobs=-1, verbose=2)\n",
    "\n",
    "# Fit GridSearchCV to your data\n",
    "xgb_grid_search.fit(X_train_resampled, y_train_resampled)\n",
    "\n",
    "# Get the best model\n",
    "best_xgb_model = xgb_grid_search.best_estimator_\n",
    "\n",
    "# Print the best parameters and the best score\n",
    "print(\"Best Parameters (XGBoost):\", xgb_grid_search.best_params_)\n",
    "print(\"Best Score (XGBoost):\", xgb_grid_search.best_score_)\n",
    "\n",
    "# Predict using the best XGBoost model\n",
    "y_pred_xgb_best = best_xgb_model.predict(X_test_tfidf)  # Make sure to transform your test set features as needed\n",
    "\n",
    "# Evaluate the best XGBoost model\n",
    "print(\"Accuracy of Best Model (XGBoost):\", accuracy_score(y_test, y_pred_xgb_best))\n",
    "print(\"Classification Report of Best Model (XGBoost):\\n\", classification_report(y_test, y_pred_xgb_best))\n",
    "\n",
    "# Plot confusion matrix for the best XGBoost model\n",
    "disp_xgb = ConfusionMatrixDisplay.from_estimator(best_xgb_model, X_test_tfidf, y_test, display_labels=['Negative', 'Positive'])\n",
    "disp_xgb.ax_.set_title('Confusion Matrix (XGBoost)')\n",
    "plt.show()"
   ]
  },
  {
   "cell_type": "markdown",
   "metadata": {},
   "source": [
    "#### KNN\n",
    "Following hyperparameter tuning with GridSearchCV for the K-Nearest Neighbors (KNN) model, the optimal parameters were determined to be 'algorithm': 'auto', 'n_neighbors': 3, and 'weights': 'distance'. These parameters led to the best mean cross-validated accuracy of approximately 91.90%. Subsequently, when evaluating the tuned KNN model on the test set, we achieved an accuracy of about 83.10%.\n",
    "\n",
    "In comparison to the baseline KNN model, which had a cross-validated mean accuracy of approximately 85.87%, the hyperparameter-tuned model demonstrates a slight improvement in performance. However, it's worth noting that the precision, recall, and F1-score values for both positive and negative classes are relatively consistent with the baseline model, suggesting that the hyperparameter tuning did not drastically alter the model's classification capabilities."
   ]
  },
  {
   "cell_type": "code",
   "execution_count": 28,
   "metadata": {},
   "outputs": [
    {
     "name": "stdout",
     "output_type": "stream",
     "text": [
      "Fitting 5 folds for each of 32 candidates, totalling 160 fits\n",
      "Best Parameters (KNN): {'clf__algorithm': 'auto', 'clf__n_neighbors': 3, 'clf__weights': 'distance'}\n",
      "Best Score (KNN): 0.9189787667427936\n",
      "Accuracy of Best Model (KNN): 0.8309859154929577\n",
      "Classification Report of Best Model (KNN):\n",
      "               precision    recall  f1-score   support\n",
      "\n",
      "         0.0       0.48      0.59      0.53       114\n",
      "         1.0       0.92      0.88      0.90       596\n",
      "\n",
      "    accuracy                           0.83       710\n",
      "   macro avg       0.70      0.73      0.71       710\n",
      "weighted avg       0.85      0.83      0.84       710\n",
      "\n"
     ]
    },
    {
     "data": {
      "image/png": "[encoded data removed]",
      "text/plain": [
       "<Figure size 432x288 with 2 Axes>"
      ]
     },
     "metadata": {
      "needs_background": "light"
     },
     "output_type": "display_data"
    }
   ],
   "source": [
    "# Define the parameter grid for KNN\n",
    "knn_param_grid = {\n",
    "    'clf__n_neighbors': [3, 5, 7, 9],  # Number of neighbors\n",
    "    'clf__weights': ['uniform', 'distance'],  # Weight function used in prediction\n",
    "    'clf__algorithm': ['auto', 'ball_tree', 'kd_tree', 'brute'],  # Algorithm used to compute the nearest neighbors\n",
    "}\n",
    "\n",
    "# Create a GridSearchCV object with the KNN pipeline and the parameter grid\n",
    "knn_grid_search = GridSearchCV(knn_pipeline, knn_param_grid, cv=5, scoring='accuracy', n_jobs=-1, verbose=2)\n",
    "\n",
    "# Fit GridSearchCV to your data\n",
    "knn_grid_search.fit(X_train_resampled, y_train_resampled)\n",
    "\n",
    "# Get the best model\n",
    "best_knn_model = knn_grid_search.best_estimator_\n",
    "\n",
    "# Print the best parameters and the best score\n",
    "print(\"Best Parameters (KNN):\", knn_grid_search.best_params_)\n",
    "print(\"Best Score (KNN):\", knn_grid_search.best_score_)\n",
    "\n",
    "# Predict using the best KNN model\n",
    "y_pred_knn_best = best_knn_model.predict(X_test_tfidf)  # Make sure to transform your test set features as needed\n",
    "\n",
    "# Evaluate the best KNN model\n",
    "print(\"Accuracy of Best Model (KNN):\", accuracy_score(y_test, y_pred_knn_best))\n",
    "print(\"Classification Report of Best Model (KNN):\\n\", classification_report(y_test, y_pred_knn_best))\n",
    "\n",
    "# Plot confusion matrix for the best KNN model\n",
    "disp_knn = ConfusionMatrixDisplay.from_estimator(best_knn_model, X_test_tfidf, y_test, display_labels=['Negative', 'Positive'])\n",
    "disp_knn.ax_.set_title('Confusion Matrix (KNN)')\n",
    "plt.show()"
   ]
  },
  {
   "cell_type": "markdown",
   "metadata": {},
   "source": [
    "#### AdaBoost\n",
    "After performing hyperparameter tuning using GridSearchCV for the AdaBoost model, the optimal parameters were determined to be 'algorithm': 'SAMME.R', 'learning_rate': 1.0, and 'n_estimators': 200. With these parameters, the best mean cross-validated accuracy achieved was approximately 87.72%. Subsequently, when evaluating this tuned model on the test set, we obtained an accuracy of approximately 82.54%.\n",
    "\n",
    "Comparing these results to the baseline AdaBoost model, which had a cross-validated mean accuracy of approximately 75.50%, we observe significant improvements in performance. The hyperparameter-tuned model demonstrates enhanced accuracy, precision, recall, and F1-score for both positive and negative classes, indicating improved classification performance overall. Specifically, the precision, recall, and F1-score for the negative class have notably increased, suggesting better identification of instances belonging to this class."
   ]
  },
  {
   "cell_type": "code",
   "execution_count": 26,
   "metadata": {},
   "outputs": [
    {
     "name": "stdout",
     "output_type": "stream",
     "text": [
      "Fitting 5 folds for each of 40 candidates, totalling 200 fits\n",
      "Best Parameters (AdaBoost): {'clf__algorithm': 'SAMME.R', 'clf__learning_rate': 1.0, 'clf__n_estimators': 200}\n",
      "Best Score (AdaBoost): 0.8772035676810074\n",
      "Accuracy of Best Model (AdaBoost): 0.8253521126760563\n",
      "Classification Report of Best Model (AdaBoost):\n",
      "               precision    recall  f1-score   support\n",
      "\n",
      "         0.0       0.46      0.54      0.50       114\n",
      "         1.0       0.91      0.88      0.89       596\n",
      "\n",
      "    accuracy                           0.83       710\n",
      "   macro avg       0.69      0.71      0.70       710\n",
      "weighted avg       0.84      0.83      0.83       710\n",
      "\n"
     ]
    },
    {
     "data": {
      "image/png": "[encoded data removed]",
      "text/plain": [
       "<Figure size 432x288 with 2 Axes>"
      ]
     },
     "metadata": {
      "needs_background": "light"
     },
     "output_type": "display_data"
    }
   ],
   "source": [
    "# Define the parameter grid for AdaBoost\n",
    "ada_param_grid = {\n",
    "    'clf__n_estimators': [50, 100, 150, 200],  # Number of weak learners\n",
    "    'clf__learning_rate': [0.01, 0.05, 0.1, 0.5, 1.0],  # Learning rate\n",
    "    'clf__algorithm': ['SAMME', 'SAMME.R']  # Algorithm for boosting\n",
    "}\n",
    "\n",
    "# Create a GridSearchCV object with the AdaBoost pipeline and the parameter grid\n",
    "ada_grid_search = GridSearchCV(ada_pipeline, ada_param_grid, cv=5, scoring='accuracy', n_jobs=-1, verbose=2)\n",
    "\n",
    "# Fit GridSearchCV to your data\n",
    "ada_grid_search.fit(X_train_resampled, y_train_resampled)\n",
    "\n",
    "# Get the best model\n",
    "best_ada_model = ada_grid_search.best_estimator_\n",
    "\n",
    "# Print the best parameters and the best score\n",
    "print(\"Best Parameters (AdaBoost):\", ada_grid_search.best_params_)\n",
    "print(\"Best Score (AdaBoost):\", ada_grid_search.best_score_)\n",
    "\n",
    "# Predict using the best AdaBoost model\n",
    "y_pred_ada_best = best_ada_model.predict(X_test_tfidf)  # Make sure to transform your test set features as needed\n",
    "\n",
    "# Evaluate the best AdaBoost model\n",
    "print(\"Accuracy of Best Model (AdaBoost):\", accuracy_score(y_test, y_pred_ada_best))\n",
    "print(\"Classification Report of Best Model (AdaBoost):\\n\", classification_report(y_test, y_pred_ada_best))\n",
    "\n",
    "# Plot confusion matrix for the best AdaBoost model\n",
    "disp_ada = ConfusionMatrixDisplay.from_estimator(best_ada_model, X_test_tfidf, y_test, display_labels=['Negative', 'Positive'])\n",
    "disp_ada.ax_.set_title('Confusion Matrix (AdaBoost)')\n",
    "plt.show()"
   ]
  },
  {
   "cell_type": "markdown",
   "metadata": {},
   "source": [
    "### Ensemble Modeling\n",
    "In this next section, we are implementing ensemble modeling techniques, specifically Hard and Soft Voting, to combine predictions from multiple individual models and make a collective decision. Ensemble modeling is beneficial as it leverages the diversity of multiple models to improve overall predictive performance and generalization.\n",
    "\n",
    "By examining both Hard and Soft Voting, we can explore different aggregation strategies and assess their effectiveness in improving the robustness and accuracy of the final prediction. Additionally, ensemble methods can help mitigate the limitations of individual models and enhance overall model stability."
   ]
  },
  {
   "cell_type": "markdown",
   "metadata": {},
   "source": [
    "#### Hard Voting\n",
    "\n",
    "Hard voting is an ensemble technique where predictions from multiple individual models are combined by taking a majority vote. Each model provides its prediction for a given sample, and the final prediction is determined by the most common prediction among the individual models.\n",
    "\n",
    "In the provided code, we first define a list of estimators, each representing the best-performing model obtained through hyperparameter tuning for various algorithms such as Logistic Regression (lr), Naive Bayes (nb), Random Forest (rf), K-Nearest Neighbors (knn), AdaBoost (ada), and XGBoost (xgb). We then define a function, evaluate_combination, to evaluate combinations of these models using hard voting. The function creates a VotingClassifier with the specified combination of models, fits the ensemble model on the training data, makes predictions on the test data, and calculates accuracy along with a confusion matrix.\n",
    "\n",
    "The code proceeds to loop over all possible combinations of models, from single models to combinations of all models. For each combination, it evaluates the ensemble model's accuracy on the test data. The combination with the highest accuracy is then identified as the best combination. Finally, the best combination, its accuracy, and the corresponding confusion matrix are printed.\n",
    "\n",
    "In the results, the best combination of models for hard voting consists of Logistic Regression, Naive Bayes, and Random Forest. This combination achieved an accuracy of approximately 90.42% on the test data."
   ]
  },
  {
   "cell_type": "code",
   "execution_count": 29,
   "metadata": {},
   "outputs": [
    {
     "name": "stdout",
     "output_type": "stream",
     "text": [
      "Best Combination: ['lr', 'nb', 'rf']\n",
      "Best Accuracy: 0.9042253521126761\n",
      "Best Confusion Matrix:\n",
      " [[ 61  53]\n",
      " [ 15 581]]\n"
     ]
    }
   ],
   "source": [
    "# Define your estimators\n",
    "estimators = [('lr', best_lr_model), \n",
    "              ('nb', best_nb_model), \n",
    "              ('rf', best_rf_model), \n",
    "              ('knn', best_knn_model),\n",
    "              ('ada', best_ada_model),\n",
    "              ('xgb', best_xgb_model)]\n",
    "\n",
    "# Define a function to evaluate a combination of models\n",
    "def evaluate_combination(combination, X_train, y_train, X_test, y_test):\n",
    "    # Create the VotingClassifier with the specified combination\n",
    "    voting = VotingClassifier(estimators=combination, voting='hard')\n",
    "    \n",
    "    # Fit the ensemble model\n",
    "    voting.fit(X_train, y_train)\n",
    "    \n",
    "    # Make predictions\n",
    "    y_pred = voting.predict(X_test)\n",
    "    \n",
    "    # Calculate accuracy\n",
    "    accuracy = accuracy_score(y_test, y_pred)\n",
    "    \n",
    "    # Compute confusion matrix\n",
    "    cm = confusion_matrix(y_test, y_pred)\n",
    "    \n",
    "    return accuracy, cm\n",
    "\n",
    "# Loop over all possible combinations of models\n",
    "best_accuracy = 0\n",
    "best_combination = None\n",
    "best_confusion_matrix = None\n",
    "\n",
    "for r in range(1, len(estimators) + 1):\n",
    "    for combination in combinations(estimators, r):\n",
    "        # Evaluate the combination using cross-validation\n",
    "        accuracy, cm = evaluate_combination(combination, X_train_resampled, y_train_resampled, X_test_tfidf, y_test)\n",
    "        \n",
    "        # Update best combination if accuracy is higher\n",
    "        if accuracy > best_accuracy:\n",
    "            best_accuracy = accuracy\n",
    "            best_combination = combination\n",
    "            best_confusion_matrix = cm\n",
    "\n",
    "# Print the best combination and its accuracy\n",
    "print(\"Best Combination:\", [estimator[0] for estimator in best_combination])\n",
    "print(\"Best Accuracy:\", best_accuracy)\n",
    "print(\"Best Confusion Matrix:\\n\", best_confusion_matrix)"
   ]
  },
  {
   "cell_type": "markdown",
   "metadata": {},
   "source": [
    "#### Soft Voting\n",
    "Soft voting is another ensemble technique where predictions from multiple individual models are combined by averaging the predicted probabilities. In contrast to hard voting, soft voting takes into account the confidence level of each model's prediction rather than just the most common prediction.\n",
    "\n",
    "In the provided code, we define a list of estimators representing the best-performing models obtained through hyperparameter tuning for various algorithms. We then define a function, evaluate_combination, to evaluate combinations of these models using soft voting. The function creates a VotingClassifier with the specified combination of models, fits the ensemble model on the training data, makes predictions on the test data, calculates accuracy, and computes a confusion matrix.\n",
    "\n",
    "The code loops over all possible combinations of models, from single models to combinations of all models. For each combination, it evaluates the ensemble model's accuracy on the test data. The combination with the highest accuracy is identified as the best combination. Finally, the best combination, its accuracy, and the corresponding confusion matrix are printed.\n",
    "\n",
    "In the results, the best combination of models for soft voting consists of Naive Bayes, Random Forest, K-Nearest Neighbors, and XGBoost. This combination achieves an accuracy of approximately 90.14% on the test data."
   ]
  },
  {
   "cell_type": "code",
   "execution_count": 30,
   "metadata": {},
   "outputs": [
    {
     "name": "stdout",
     "output_type": "stream",
     "text": [
      "Best Combination: ['nb', 'rf', 'knn', 'xgb']\n",
      "Best Accuracy: 0.9014084507042254\n",
      "Best Confusion Matrix:\n",
      " [[ 59  55]\n",
      " [ 15 581]]\n"
     ]
    }
   ],
   "source": [
    "\n",
    "# Define your estimators\n",
    "estimators = [('lr', best_lr_model), \n",
    "              ('nb', best_nb_model), \n",
    "              ('rf', best_rf_model), \n",
    "              ('knn', best_knn_model),\n",
    "              ('ada', best_ada_model),\n",
    "              ('xgb', best_xgb_model)]\n",
    "\n",
    "# Define a function to evaluate a combination of models\n",
    "def evaluate_combination(combination, X_train, y_train, X_test, y_test):\n",
    "    # Create the VotingClassifier with the specified combination\n",
    "    voting = VotingClassifier(estimators=combination, voting='soft')\n",
    "    \n",
    "    # Fit the ensemble model\n",
    "    voting.fit(X_train, y_train)\n",
    "    \n",
    "    # Make predictions\n",
    "    y_pred = voting.predict(X_test)\n",
    "    \n",
    "    # Calculate accuracy\n",
    "    accuracy = accuracy_score(y_test, y_pred)\n",
    "    \n",
    "    # Compute confusion matrix\n",
    "    cm = confusion_matrix(y_test, y_pred)\n",
    "    \n",
    "    return accuracy, cm\n",
    "\n",
    "# Loop over all possible combinations of models\n",
    "best_accuracy = 0\n",
    "best_combination = None\n",
    "best_confusion_matrix = None\n",
    "\n",
    "for r in range(1, len(estimators) + 1):\n",
    "    for combination in combinations(estimators, r):\n",
    "        # Evaluate the combination using cross-validation\n",
    "        accuracy, cm = evaluate_combination(combination, X_train_resampled, y_train_resampled, X_test_tfidf, y_test)\n",
    "        \n",
    "        # Update best combination if accuracy is higher\n",
    "        if accuracy > best_accuracy:\n",
    "            best_accuracy = accuracy\n",
    "            best_combination = combination\n",
    "            best_confusion_matrix = cm\n",
    "\n",
    "# Print the best combination and its accuracy\n",
    "print(\"Best Combination:\", [estimator[0] for estimator in best_combination])\n",
    "print(\"Best Accuracy:\", best_accuracy)\n",
    "print(\"Best Confusion Matrix:\\n\", best_confusion_matrix)\n"
   ]
  },
  {
   "cell_type": "markdown",
   "metadata": {},
   "source": [
    " ## Conclusion\n",
    "After evaluating the performance of various ensemble models, including individual classifiers such as Logistic Regression, Naive Bayes, Random Forest, K-Nearest Neighbors, AdaBoost, and XGBoost, the hard voting classifier emerged as the optimal choice. With an accuracy of approximately 90.42% on the holdout test data, the hard voting classifier demonstrates robust performance in sentiment analysis tasks. This implies its utility for real-world applications such as social media monitoring, brand reputation management, and customer sentiment analysis. By accurately classifying tweets into positive or negative sentiments, the hard voting classifier enables businesses to gain valuable insights into customer opinions, preferences, and satisfaction levels, allowing them to make informed decisions and tailor their marketing strategies accordingly. Therefore, the deployment of the hard voting classifier in sentiment analysis tasks holds significant implications for enhancing customer engagement, brand loyalty, and overall business performance in today's digital landscape."
   ]
  },
  {
   "cell_type": "markdown",
   "metadata": {},
   "source": [
    "### Next Steps\n",
    "\n",
    "- Source More Negative Sentiment Tweets: Given the class imbalance observed in the dataset, it's crucial to ensure adequate representation of negative sentiment tweets during training. Instead of relying solely on random oversampling, we should actively source more negative sentiment tweets from diverse sources or datasets. This approach will provide a more balanced training dataset, leading to better generalization and performance of the model, especially in accurately detecting negative sentiments.\n",
    "\n",
    "- Fine-Tuning Hyperparameters: Although we employed GridSearchCV to tune the hyperparameters of our models, there might still be room for further optimization. Experimenting with a broader range of hyperparameters or using more advanced optimization techniques like Bayesian optimization could help in finding better hyperparameter configurations that enhance the model's performance.\n",
    "\n",
    "- Feature Engineering: Explore additional features or text representations that could capture more nuanced information from the tweets. For instance, incorporating word embeddings like Word2Vec or GloVe could capture semantic relationships between words more effectively than traditional bag-of-words approaches. Additionally, extracting features such as sentiment lexicons, syntactic patterns, or contextual embeddings might provide valuable information to improve the model's understanding of tweet sentiment.\n",
    "\n",
    "By implementing these next steps, we can further enhance the performance and robustness of our sentiment analysis model, enabling more accurate and reliable predictions in real-world scenarios."
   ]
  },
  {
   "cell_type": "code",
   "execution_count": null,
   "metadata": {},
   "outputs": [],
   "source": []
  }
 ],
 "metadata": {
  "kernelspec": {
   "display_name": "Python (learn-env)",
   "language": "python",
   "name": "learn-env"
  },
  "language_info": {
   "codemirror_mode": {
    "name": "ipython",
    "version": 3
   },
   "file_extension": ".py",
   "mimetype": "text/x-python",
   "name": "python",
   "nbconvert_exporter": "python",
   "pygments_lexer": "ipython3",
   "version": "3.8.5"
  },
  "toc": {
   "base_numbering": 1,
   "nav_menu": {},
   "number_sections": true,
   "sideBar": true,
   "skip_h1_title": true,
   "title_cell": "Table of Contents",
   "title_sidebar": "Contents",
   "toc_cell": false,
   "toc_position": {
    "height": "calc(100% - 180px)",
    "left": "10px",
    "top": "150px",
    "width": "274.858px"
   },
   "toc_section_display": true,
   "toc_window_display": true
  }
 },
 "nbformat": 4,
 "nbformat_minor": 4
}
